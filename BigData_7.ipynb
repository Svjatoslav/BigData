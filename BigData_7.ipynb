{
 "cells": [
  {
   "cell_type": "code",
   "execution_count": 43,
   "id": "d78dc4cc",
   "metadata": {},
   "outputs": [],
   "source": [
    "import numpy as np\n",
    "import pandas as pd\n",
    "import statsmodels.api as sm\n",
    "from matplotlib import pyplot as plt\n",
    "from scipy.stats import shapiro, kstest, chisquare, norm\n",
    "from sklearn.linear_model import LinearRegression\n",
    "from sklearn.metrics import r2_score\n",
    "import math\n",
    "plt.rcParams[\"figure.figsize\"] = (20,5)\n",
    "# np.random.seed(42)  # для воспроизводимости результатов\n",
    "\n",
    "# Генерация данных\n",
    "n_samples = 200\n",
    "x1 = np.random.uniform(-5,5, n_samples)\n",
    "x2 = np.random.uniform(-5,5, n_samples)\n",
    "x3 = np.random.uniform(-5,5, n_samples)\n",
    "e = np.random.normal(0, 1, n_samples)  # случайный шум\n",
    "\n",
    "# Рассчитываем отклик y\n",
    "y = 1 + 3*x1 - 2*x2 + x3 +e\n",
    "\n",
    "# Создаем DataFrame\n",
    "data = pd.DataFrame({'x1': x1, 'x2': x2, 'x3': x3, 'y': y})\n"
   ]
  },
  {
   "cell_type": "code",
   "execution_count": 44,
   "id": "26322125",
   "metadata": {},
   "outputs": [],
   "source": [
    "\n",
    "# # Добавляем столбец с единицами для свободного члена\n",
    "# X = sm.add_constant(data[['x1', 'x2', 'x3']])\n",
    "# y = data['y']\n",
    "\n",
    "# # Строим модель\n",
    "# model = sm.OLS(y, X).fit()\n",
    "\n",
    "# # Выводим результаты регрессии\n",
    "# print(model.summary())"
   ]
  },
  {
   "cell_type": "code",
   "execution_count": 45,
   "id": "2530f160",
   "metadata": {},
   "outputs": [
    {
     "data": {
      "text/html": [
       "<style>#sk-container-id-3 {color: black;background-color: white;}#sk-container-id-3 pre{padding: 0;}#sk-container-id-3 div.sk-toggleable {background-color: white;}#sk-container-id-3 label.sk-toggleable__label {cursor: pointer;display: block;width: 100%;margin-bottom: 0;padding: 0.3em;box-sizing: border-box;text-align: center;}#sk-container-id-3 label.sk-toggleable__label-arrow:before {content: \"▸\";float: left;margin-right: 0.25em;color: #696969;}#sk-container-id-3 label.sk-toggleable__label-arrow:hover:before {color: black;}#sk-container-id-3 div.sk-estimator:hover label.sk-toggleable__label-arrow:before {color: black;}#sk-container-id-3 div.sk-toggleable__content {max-height: 0;max-width: 0;overflow: hidden;text-align: left;background-color: #f0f8ff;}#sk-container-id-3 div.sk-toggleable__content pre {margin: 0.2em;color: black;border-radius: 0.25em;background-color: #f0f8ff;}#sk-container-id-3 input.sk-toggleable__control:checked~div.sk-toggleable__content {max-height: 200px;max-width: 100%;overflow: auto;}#sk-container-id-3 input.sk-toggleable__control:checked~label.sk-toggleable__label-arrow:before {content: \"▾\";}#sk-container-id-3 div.sk-estimator input.sk-toggleable__control:checked~label.sk-toggleable__label {background-color: #d4ebff;}#sk-container-id-3 div.sk-label input.sk-toggleable__control:checked~label.sk-toggleable__label {background-color: #d4ebff;}#sk-container-id-3 input.sk-hidden--visually {border: 0;clip: rect(1px 1px 1px 1px);clip: rect(1px, 1px, 1px, 1px);height: 1px;margin: -1px;overflow: hidden;padding: 0;position: absolute;width: 1px;}#sk-container-id-3 div.sk-estimator {font-family: monospace;background-color: #f0f8ff;border: 1px dotted black;border-radius: 0.25em;box-sizing: border-box;margin-bottom: 0.5em;}#sk-container-id-3 div.sk-estimator:hover {background-color: #d4ebff;}#sk-container-id-3 div.sk-parallel-item::after {content: \"\";width: 100%;border-bottom: 1px solid gray;flex-grow: 1;}#sk-container-id-3 div.sk-label:hover label.sk-toggleable__label {background-color: #d4ebff;}#sk-container-id-3 div.sk-serial::before {content: \"\";position: absolute;border-left: 1px solid gray;box-sizing: border-box;top: 0;bottom: 0;left: 50%;z-index: 0;}#sk-container-id-3 div.sk-serial {display: flex;flex-direction: column;align-items: center;background-color: white;padding-right: 0.2em;padding-left: 0.2em;position: relative;}#sk-container-id-3 div.sk-item {position: relative;z-index: 1;}#sk-container-id-3 div.sk-parallel {display: flex;align-items: stretch;justify-content: center;background-color: white;position: relative;}#sk-container-id-3 div.sk-item::before, #sk-container-id-3 div.sk-parallel-item::before {content: \"\";position: absolute;border-left: 1px solid gray;box-sizing: border-box;top: 0;bottom: 0;left: 50%;z-index: -1;}#sk-container-id-3 div.sk-parallel-item {display: flex;flex-direction: column;z-index: 1;position: relative;background-color: white;}#sk-container-id-3 div.sk-parallel-item:first-child::after {align-self: flex-end;width: 50%;}#sk-container-id-3 div.sk-parallel-item:last-child::after {align-self: flex-start;width: 50%;}#sk-container-id-3 div.sk-parallel-item:only-child::after {width: 0;}#sk-container-id-3 div.sk-dashed-wrapped {border: 1px dashed gray;margin: 0 0.4em 0.5em 0.4em;box-sizing: border-box;padding-bottom: 0.4em;background-color: white;}#sk-container-id-3 div.sk-label label {font-family: monospace;font-weight: bold;display: inline-block;line-height: 1.2em;}#sk-container-id-3 div.sk-label-container {text-align: center;}#sk-container-id-3 div.sk-container {/* jupyter's `normalize.less` sets `[hidden] { display: none; }` but bootstrap.min.css set `[hidden] { display: none !important; }` so we also need the `!important` here to be able to override the default hidden behavior on the sphinx rendered scikit-learn.org. See: https://github.com/scikit-learn/scikit-learn/issues/21755 */display: inline-block !important;position: relative;}#sk-container-id-3 div.sk-text-repr-fallback {display: none;}</style><div id=\"sk-container-id-3\" class=\"sk-top-container\"><div class=\"sk-text-repr-fallback\"><pre>LinearRegression()</pre><b>In a Jupyter environment, please rerun this cell to show the HTML representation or trust the notebook. <br />On GitHub, the HTML representation is unable to render, please try loading this page with nbviewer.org.</b></div><div class=\"sk-container\" hidden><div class=\"sk-item\"><div class=\"sk-estimator sk-toggleable\"><input class=\"sk-toggleable__control sk-hidden--visually\" id=\"sk-estimator-id-3\" type=\"checkbox\" checked><label for=\"sk-estimator-id-3\" class=\"sk-toggleable__label sk-toggleable__label-arrow\">LinearRegression</label><div class=\"sk-toggleable__content\"><pre>LinearRegression()</pre></div></div></div></div></div>"
      ],
      "text/plain": [
       "LinearRegression()"
      ]
     },
     "execution_count": 45,
     "metadata": {},
     "output_type": "execute_result"
    }
   ],
   "source": [
    "lr = LinearRegression()\n",
    "lr.fit(data[['x1','x2','x3']],data['y'])"
   ]
  },
  {
   "cell_type": "code",
   "execution_count": null,
   "id": "09c80733",
   "metadata": {},
   "outputs": [],
   "source": []
  },
  {
   "cell_type": "code",
   "execution_count": 46,
   "id": "c9fba319",
   "metadata": {},
   "outputs": [],
   "source": [
    "err = y - lr.predict(data[['x1','x2','x3']])"
   ]
  },
  {
   "cell_type": "code",
   "execution_count": 47,
   "id": "ec47b5bc",
   "metadata": {},
   "outputs": [
    {
     "data": {
      "text/plain": [
       "200.79160672913807"
      ]
     },
     "execution_count": 47,
     "metadata": {},
     "output_type": "execute_result"
    }
   ],
   "source": [
    "ESS = sum((err)**2)\n",
    "ESS"
   ]
  },
  {
   "cell_type": "code",
   "execution_count": 48,
   "id": "3fd37246",
   "metadata": {},
   "outputs": [
    {
     "data": {
      "text/plain": [
       "24202.608236672626"
      ]
     },
     "execution_count": 48,
     "metadata": {},
     "output_type": "execute_result"
    }
   ],
   "source": [
    "TSS = sum((y-np.mean(y))**2)\n",
    "TSS"
   ]
  },
  {
   "cell_type": "code",
   "execution_count": 49,
   "id": "4a696e82",
   "metadata": {},
   "outputs": [
    {
     "data": {
      "text/plain": [
       "7809.682446562554"
      ]
     },
     "execution_count": 49,
     "metadata": {},
     "output_type": "execute_result"
    }
   ],
   "source": [
    "F_stat = ((TSS - ESS)/3)/(ESS/(n_samples - 3 - 1))\n",
    "F_stat"
   ]
  },
  {
   "cell_type": "code",
   "execution_count": 50,
   "id": "6b6afda1",
   "metadata": {
    "scrolled": true
   },
   "outputs": [
    {
     "data": {
      "text/plain": [
       "0.9917037203277582"
      ]
     },
     "execution_count": 50,
     "metadata": {},
     "output_type": "execute_result"
    }
   ],
   "source": [
    "R2 = 1 - ESS/TSS\n",
    "R2"
   ]
  },
  {
   "cell_type": "code",
   "execution_count": 51,
   "id": "3b3cbe99",
   "metadata": {},
   "outputs": [
    {
     "data": {
      "text/plain": [
       "0.9916343162759339"
      ]
     },
     "execution_count": 51,
     "metadata": {},
     "output_type": "execute_result"
    }
   ],
   "source": [
    "r2_score(lr.predict(data[['x1','x2','x3']]),y)"
   ]
  },
  {
   "cell_type": "code",
   "execution_count": 52,
   "id": "00c68d52",
   "metadata": {},
   "outputs": [
    {
     "data": {
      "text/plain": [
       "14.342257623509862"
      ]
     },
     "execution_count": 52,
     "metadata": {},
     "output_type": "execute_result"
    }
   ],
   "source": [
    "RSE = math.sqrt(ESS/(n_samples - 3 - 1)*ESS)\n",
    "RSE"
   ]
  },
  {
   "cell_type": "code",
   "execution_count": 57,
   "id": "af52e9fc",
   "metadata": {},
   "outputs": [],
   "source": [
    "df = pd.read_csv('Global_annual_mean_temp.csv',low_memory=False)\n",
    "df = df.drop_duplicates()\n"
   ]
  },
  {
   "cell_type": "code",
   "execution_count": 54,
   "id": "fb7f2fa1",
   "metadata": {},
   "outputs": [
    {
     "data": {
      "image/png": "[encoded data removed]",
      "text/plain": [
       "<Figure size 1440x360 with 1 Axes>"
      ]
     },
     "metadata": {
      "needs_background": "light"
     },
     "output_type": "display_data"
    },
    {
     "data": {
      "text/plain": [
       "poly1d([-9.56753993e-12,  1.11650060e-07, -5.42795085e-04,  1.40715241e+00,\n",
       "       -2.05162741e+03,  1.59508637e+06, -5.16640359e+08])"
      ]
     },
     "execution_count": 54,
     "metadata": {},
     "output_type": "execute_result"
    }
   ],
   "source": [
    "model = np.poly1d(np.polyfit(df['Year'], df['No_Smoothing'], 6))\n",
    "plt.scatter(df['Year'], df['No_Smoothing'])\n",
    "plt.plot(df['Year'], model(df['Year']))\n",
    "plt.show()\n",
    "model"
   ]
  },
  {
   "cell_type": "code",
   "execution_count": 58,
   "id": "3550551f",
   "metadata": {},
   "outputs": [
    {
     "name": "stdout",
     "output_type": "stream",
     "text": [
      "ESS x^0  19.226493706293713\n",
      "ESS x^1  4.519526292721364\n",
      "ESS x^2  1.9563211875966091\n",
      "ESS x^3  1.8921050848585597\n",
      "ESS x^4  1.7438309142747517\n",
      "ESS x^5  1.6556419869907433\n",
      "ESS x^6  1.569793782306401\n"
     ]
    }
   ],
   "source": [
    "def select_extension(predictor, corrector, right_border):\n",
    "    for i in range(right_border):\n",
    "        m = np.poly1d(np.polyfit(predictor, corrector, i))\n",
    "        ess = sum((m(predictor) - corrector)**2)\n",
    "        print(f\"ESS x^{i} \", ess)\n",
    "\n",
    "select_extension(df['Year'], df['No_Smoothing'], 7)"
   ]
  },
  {
   "cell_type": "code",
   "execution_count": null,
   "id": "c3d79ca7",
   "metadata": {},
   "outputs": [],
   "source": []
  }
 ],
 "metadata": {
  "kernelspec": {
   "display_name": "Python 3 (ipykernel)",
   "language": "python",
   "name": "python3"
  },
  "language_info": {
   "codemirror_mode": {
    "name": "ipython",
    "version": 3
   },
   "file_extension": ".py",
   "mimetype": "text/x-python",
   "name": "python",
   "nbconvert_exporter": "python",
   "pygments_lexer": "ipython3",
   "version": "3.10.5"
  }
 },
 "nbformat": 4,
 "nbformat_minor": 5
}
